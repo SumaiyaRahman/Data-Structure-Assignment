{
  "nbformat": 4,
  "nbformat_minor": 0,
  "metadata": {
    "colab": {
      "provenance": [],
      "authorship_tag": "ABX9TyOYQ+giYeItkKCsHA87qwcK",
      "include_colab_link": true
    },
    "kernelspec": {
      "name": "python3",
      "display_name": "Python 3"
    },
    "language_info": {
      "name": "python"
    }
  },
  "cells": [
    {
      "cell_type": "markdown",
      "metadata": {
        "id": "view-in-github",
        "colab_type": "text"
      },
      "source": [
        "<a href=\"https://colab.research.google.com/github/SumaiyaRahman/Data-Structure-Assignment/blob/master/Loop.ipynb\" target=\"_parent\"><img src=\"https://colab.research.google.com/assets/colab-badge.svg\" alt=\"Open In Colab\"/></a>"
      ]
    },
    {
      "cell_type": "code",
      "source": [
        "# Write a program to read 5 numbers from keyboard and find their sum and average.\n",
        "sum=0\n",
        "n=int(input(\"enter time appears: \"))\n",
        "list1=[]\n",
        "for i in range(0,n):\n",
        "  y=int(input())\n",
        "  list1.append(y)\n",
        "  sum=sum+y\n",
        "print(sum)"
      ],
      "metadata": {
        "id": "aI6PQPveAVoU",
        "colab": {
          "base_uri": "https://localhost:8080/"
        },
        "outputId": "91f531e6-f9f4-4f79-e052-b721bdaba4ff"
      },
      "execution_count": null,
      "outputs": [
        {
          "output_type": "stream",
          "name": "stdout",
          "text": [
            "enter time appears: 4\n",
            "1\n",
            "2\n",
            "3\n",
            "1\n",
            "7\n"
          ]
        }
      ]
    },
    {
      "cell_type": "code",
      "source": [
        "# Write a for loop which appends the square of each number to the new list.\n",
        "\n",
        "list1=[100,2,3,5]\n",
        "list2=[]\n",
        "for i in list1:\n",
        "  y=i**2\n",
        "  list2.append(y)\n",
        "print(list2)\n",
        "\n"
      ],
      "metadata": {
        "id": "oCPOhArF9tbF",
        "colab": {
          "base_uri": "https://localhost:8080/"
        },
        "outputId": "49563122-21ae-407d-d46d-e26b631eab6d"
      },
      "execution_count": null,
      "outputs": [
        {
          "output_type": "stream",
          "name": "stdout",
          "text": [
            "[10000, 4, 9, 25]\n"
          ]
        }
      ]
    },
    {
      "cell_type": "code",
      "source": [
        "'''Write a program to print the following number pattern using a loop.\n",
        "\n",
        "1\n",
        "1 2\n",
        "1 2 3\n",
        "1 2 3 4\n",
        "1 2 3 4 5  '''\n",
        "for i in range (6):\n",
        "  for j in range (1,i+1):\n",
        "      print(j,end=' ')\n",
        "      #print(\"**\")\n",
        "  print()"
      ],
      "metadata": {
        "id": "lto0Kxju_Roq",
        "colab": {
          "base_uri": "https://localhost:8080/"
        },
        "outputId": "29237fec-3076-4e73-8eca-b1489a5a7a20"
      },
      "execution_count": null,
      "outputs": [
        {
          "output_type": "stream",
          "name": "stdout",
          "text": [
            "\n",
            "1 \n",
            "1 2 \n",
            "1 2 3 \n",
            "1 2 3 4 \n",
            "1 2 3 4 5 \n"
          ]
        }
      ]
    },
    {
      "cell_type": "code",
      "source": [
        "'''Write a Python program to count the number of even and odd numbers from a series of numbers.\n",
        "Sample numbers : numbers = (1, 2, 3, 4, 5, 6, 7, 8, 9)\n",
        "Expected Output :\n",
        "Number of even numbers : 4\n",
        "Number of odd numbers : 5'''\n",
        "numbers = (1, 2, 3, 4, 5, 6, 7, 8, 9)\n",
        "even=0\n",
        "odd=0\n",
        "for i in numbers:\n",
        "  if i%2==0:\n",
        "    even=even+1\n",
        "  else:\n",
        "    odd=odd+1\n",
        "print(odd)\n",
        "print(even)"
      ],
      "metadata": {
        "id": "xkcN7kVY8pZd",
        "colab": {
          "base_uri": "https://localhost:8080/"
        },
        "outputId": "10e1bd8e-9431-4103-9bf6-25b07457ad01"
      },
      "execution_count": null,
      "outputs": [
        {
          "output_type": "stream",
          "name": "stdout",
          "text": [
            "5\n",
            "4\n"
          ]
        }
      ]
    },
    {
      "cell_type": "code",
      "source": [
        "#Write a Python program that prints all the numbers from 0 to 6 except 3 and 6\n",
        "for i in range (7):\n",
        "  if i==3 or i==6:\n",
        "      continue\n",
        "  else:\n",
        "    print(i)\n",
        ""
      ],
      "metadata": {
        "id": "DO7dkxk582N-",
        "colab": {
          "base_uri": "https://localhost:8080/"
        },
        "outputId": "855ba3da-f95e-4554-842e-6d75c9fcf77f"
      },
      "execution_count": null,
      "outputs": [
        {
          "output_type": "stream",
          "name": "stdout",
          "text": [
            "0\n",
            "1\n",
            "2\n",
            "4\n",
            "5\n"
          ]
        }
      ]
    },
    {
      "cell_type": "code",
      "source": [
        "'''Write a Python program that accepts a string and calculate the number of digits and letters.\n",
        "Sample Data : Python 3.2\n",
        "Expected Output :\n",
        "Letters 6\n",
        "Digits 2'''\n",
        "s='Python 3.2'\n"
      ],
      "metadata": {
        "id": "Of3NWVJX83v-",
        "colab": {
          "base_uri": "https://localhost:8080/"
        },
        "outputId": "205f0738-6396-483d-b3f7-3281d9921775"
      },
      "execution_count": null,
      "outputs": [
        {
          "output_type": "stream",
          "name": "stdout",
          "text": [
            "2\n",
            "6\n"
          ]
        }
      ]
    },
    {
      "cell_type": "code",
      "source": [
        "# Write a program to find if the number is prime.\n",
        "x=int(input())\n"
      ],
      "metadata": {
        "id": "HVaThbOS9Jjo",
        "colab": {
          "base_uri": "https://localhost:8080/"
        },
        "outputId": "3d4e9856-1c48-43dd-d770-54fc44a85ba3"
      },
      "execution_count": null,
      "outputs": [
        {
          "output_type": "stream",
          "name": "stdout",
          "text": [
            "5\n",
            "Prime\n"
          ]
        }
      ]
    },
    {
      "cell_type": "code",
      "source": [
        "# Find the factorial of a given number\n",
        "x=int(input())\n",
        "y=1\n",
        "for i in range (1,x+1):\n",
        "    y=i*y\n",
        "print(y)\n",
        "\n",
        "\n"
      ],
      "metadata": {
        "id": "zt-vsBUk_1GH",
        "colab": {
          "base_uri": "https://localhost:8080/"
        },
        "outputId": "6f365ea0-d37f-44fa-b4f2-68d03392ef0e"
      },
      "execution_count": null,
      "outputs": [
        {
          "output_type": "stream",
          "name": "stdout",
          "text": [
            "3\n",
            "6\n"
          ]
        }
      ]
    },
    {
      "cell_type": "code",
      "source": [
        "# Write a program that prints all even squres between 1 and n.\n",
        "# example: n=100     Program prints: 4,16,36,64,100\n",
        "\n",
        "x=int(input())\n",
        "list1=[]\n",
        "for i in range (x):\n",
        "  if i>0:\n",
        "    if i%2==0:\n",
        "      y=i**2\n",
        "      if y>x:\n",
        "        break\n",
        "      list1.append(y)\n",
        "print(list1)"
      ],
      "metadata": {
        "id": "imu-FYVm_2k_",
        "colab": {
          "base_uri": "https://localhost:8080/"
        },
        "outputId": "2baaad87-cc5d-4ca0-ead9-487a3c1a8418"
      },
      "execution_count": null,
      "outputs": [
        {
          "output_type": "stream",
          "name": "stdout",
          "text": [
            "100\n",
            "[4, 16, 36, 64, 100]\n"
          ]
        }
      ]
    }
  ]
}