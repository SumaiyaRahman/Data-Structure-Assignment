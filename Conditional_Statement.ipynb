{
  "nbformat": 4,
  "nbformat_minor": 0,
  "metadata": {
    "colab": {
      "provenance": [],
      "authorship_tag": "ABX9TyPhHkRYX0wy8eX7Ytbi7Xvo",
      "include_colab_link": true
    },
    "kernelspec": {
      "name": "python3",
      "display_name": "Python 3"
    },
    "language_info": {
      "name": "python"
    }
  },
  "cells": [
    {
      "cell_type": "markdown",
      "metadata": {
        "id": "view-in-github",
        "colab_type": "text"
      },
      "source": [
        "<a href=\"https://colab.research.google.com/github/SumaiyaRahman/Data-Structure-Assignment/blob/master/Conditional_Statement.ipynb\" target=\"_parent\"><img src=\"https://colab.research.google.com/assets/colab-badge.svg\" alt=\"Open In Colab\"/></a>"
      ]
    },
    {
      "cell_type": "code",
      "source": [
        "'''Write an if statement that asks for the user's name via input() function.\n",
        "If the name is \"Bond\" make it print \"Welcome on board 007.\"\n",
        "Otherwise make it print \"Good morning NAME\". (Replace Name with user's name)'''\n",
        "users_name=input()\n",
        "if users_name=='Bond':\n",
        "  print(\"Welcome on board 007.\")\n",
        "else:\n",
        "  print(f\"Good morning {users_name}\")"
      ],
      "metadata": {
        "colab": {
          "base_uri": "https://localhost:8080/"
        },
        "id": "C8m2S6wvsxWs",
        "outputId": "10e6d639-b327-4296-ca8c-17cd167dbdfd"
      },
      "execution_count": null,
      "outputs": [
        {
          "output_type": "stream",
          "name": "stdout",
          "text": [
            "s\n",
            "Good morning s\n"
          ]
        }
      ]
    },
    {
      "cell_type": "code",
      "source": [
        "#Write a program to check whether a number (accepted from user) is positive or negative.\n",
        "x=int(input())\n",
        "if x>0:\n",
        "  print('positive')\n",
        "else:\n",
        "  print('negative')"
      ],
      "metadata": {
        "id": "dtmjKvUauua6",
        "colab": {
          "base_uri": "https://localhost:8080/"
        },
        "outputId": "591ef9fd-105d-4fe2-8589-0cd9debf70cc"
      },
      "execution_count": null,
      "outputs": [
        {
          "output_type": "stream",
          "name": "stdout",
          "text": [
            "-982\n",
            "negative\n"
          ]
        }
      ]
    },
    {
      "cell_type": "code",
      "source": [
        "'''Accept the following from the user and calculate the percentage of class attended:\n",
        "a. Total number of working days\n",
        "b. Total number of days for absent\n",
        "After calculating percentage show that, If the percentage is less than 75, than student will not be able to sit in exam.'''\n",
        "working_days=int(input())\n",
        "absent_days=int(input())\n",
        "percentage=((working_days)/(absent_days+working_days))*100\n",
        "if percentage>74:\n",
        "  print(\"you can attend\")\n",
        "else:\n",
        "  print(\"No\")\n",
        "#percentage"
      ],
      "metadata": {
        "id": "3EkPjM9eu8iE",
        "colab": {
          "base_uri": "https://localhost:8080/"
        },
        "outputId": "b1cdfe34-a64b-4d62-8672-2124346d9994"
      },
      "execution_count": null,
      "outputs": [
        {
          "output_type": "stream",
          "name": "stdout",
          "text": [
            "50\n",
            "12\n",
            "you can attend\n"
          ]
        }
      ]
    },
    {
      "cell_type": "markdown",
      "source": [
        "Let us C: Page 83"
      ],
      "metadata": {
        "id": "agZrYiG_qVzG"
      }
    },
    {
      "cell_type": "code",
      "source": [
        "#b\n",
        "x=int(input())\n",
        "if x%2==0:\n",
        "  print(\"even\")\n",
        "else:\n",
        "  print(\"odd\")"
      ],
      "metadata": {
        "id": "msnyBcx9j-fm",
        "colab": {
          "base_uri": "https://localhost:8080/"
        },
        "outputId": "b3eeee57-c908-44a2-e379-792a7bc40c31"
      },
      "execution_count": null,
      "outputs": [
        {
          "output_type": "stream",
          "name": "stdout",
          "text": [
            "45\n",
            "odd\n"
          ]
        }
      ]
    },
    {
      "cell_type": "code",
      "source": [
        "#c\n",
        "y=int(input())\n",
        "if y%400==0:\n",
        "  print(\"leap year\")\n",
        "elif y%100==0:\n",
        "  print(\"not\")\n",
        "elif y%4==0:\n",
        "  print(\"leap year\")\n",
        "else:\n",
        "  print(\"no\")"
      ],
      "metadata": {
        "id": "KMTR-kHfqdqu",
        "colab": {
          "base_uri": "https://localhost:8080/"
        },
        "outputId": "93260a00-0998-4be0-b9a8-f509a091bddf"
      },
      "execution_count": null,
      "outputs": [
        {
          "output_type": "stream",
          "name": "stdout",
          "text": [
            "2016\n",
            "leap year\n"
          ]
        }
      ]
    },
    {
      "cell_type": "code",
      "source": [
        "#e\n",
        "a=input(\"Enter a number: \")\n",
        "if a[::]==a[::-1]:\n",
        "  print(\"match\")\n",
        "else:\n",
        "  print(\"no\")\n",
        "\n",
        "#also print the reversed number\n",
        "int(a[::-1])"
      ],
      "metadata": {
        "id": "pWj_Q606qnau",
        "colab": {
          "base_uri": "https://localhost:8080/"
        },
        "outputId": "8e3cdc37-fabf-43c2-afeb-cc45af603d47"
      },
      "execution_count": null,
      "outputs": [
        {
          "output_type": "stream",
          "name": "stdout",
          "text": [
            "Enter a number: 827364\n",
            "no\n"
          ]
        },
        {
          "output_type": "execute_result",
          "data": {
            "text/plain": [
              "463728"
            ]
          },
          "metadata": {},
          "execution_count": 13
        }
      ]
    },
    {
      "cell_type": "markdown",
      "source": [
        "Let us C: Page 89"
      ],
      "metadata": {
        "id": "azFM_h69rAYn"
      }
    },
    {
      "cell_type": "code",
      "source": [
        "#b (Ignore the ASCII table)\n",
        "x=input()\n",
        "#x.isupper()\n",
        "#x.islower()\n",
        "#x.isdigit()\n",
        "if x.isupper():\n",
        "  print(\"UPPER\")\n",
        "elif x.islower():\n",
        "  print(\"LOWER\")\n",
        "elif x.isdigit():\n",
        "  print(\"DIGIT\")\n",
        "else:\n",
        "  print(\"Special symbol\")\n",
        "\n"
      ],
      "metadata": {
        "id": "03rlN-merDKE",
        "colab": {
          "base_uri": "https://localhost:8080/"
        },
        "outputId": "6031f2fd-321d-416d-9f4d-d936f2010a10"
      },
      "execution_count": null,
      "outputs": [
        {
          "output_type": "stream",
          "name": "stdout",
          "text": [
            "#$\n",
            "Special symbol\n"
          ]
        }
      ]
    },
    {
      "cell_type": "code",
      "source": [
        "#page 90. e\n",
        "x=int(input())\n",
        "if x<=5:\n",
        "  print(\"50 poisha\")\n",
        "elif x<=6:\n",
        "  print(\"one rupee\")\n",
        "elif x<=10:\n",
        "  print(\"one rupee\")\n",
        "elif x<=30:\n",
        "  print(\"5 rupes\")\n",
        "else:\n",
        "  print(\"cancelled\")"
      ],
      "metadata": {
        "id": "dRw2KufFrHUc",
        "colab": {
          "base_uri": "https://localhost:8080/"
        },
        "outputId": "3ab9a837-e5f1-41ab-e909-26c6c7a4ee9c"
      },
      "execution_count": null,
      "outputs": [
        {
          "output_type": "stream",
          "name": "stdout",
          "text": [
            "13\n",
            "5 rupes\n"
          ]
        }
      ]
    },
    {
      "cell_type": "code",
      "source": [
        "#page 91.f\n",
        "angle_1=int(input())\n",
        "angle_2=int(input())\n",
        "angle_3=int(input())\n",
        "#x=angle_1+angle_2+angle_3\n",
        "y=angle_1+angle_2\n",
        "x=angle_1+angle_3\n",
        "z=angle_2+angle_3\n",
        "if angle_1<y and angle_1<x and angle_1<z and angle_1>0:\n",
        "  if angle_2<y and angle_2<x and angle_2<z and angle_2>0:\n",
        "    if angle_3<y and angle_3<x and angle_3<z and angle_3>0:\n",
        "      print(\"valid\")\n",
        "else:\n",
        "  print(\"invalid\")\n",
        "\n",
        "#2nd\n",
        "if angle_1<z and angle_1>0:\n",
        "  if angle_2<x and angle_2>0:\n",
        "    if angle_3<y and angle_3>0:\n",
        "      print(\"valid\")\n",
        "else:\n",
        "  print(\"invalid\")\n",
        "\n",
        "#3rd\n",
        "list1=[angle_1, angle_2, angle_3]\n",
        "list1.sort()\n",
        "if list1[-1]<(list1[0]+list1[1]):\n",
        "  print(\"valid\")\n",
        "else:\n",
        "  print(\"invalid\")"
      ],
      "metadata": {
        "id": "lcxNrAKYrQtN",
        "colab": {
          "base_uri": "https://localhost:8080/"
        },
        "outputId": "6491bf86-b5c1-4633-d9dd-674264407270"
      },
      "execution_count": null,
      "outputs": [
        {
          "output_type": "stream",
          "name": "stdout",
          "text": [
            "12\n",
            "5\n",
            "13\n",
            "valid\n",
            "valid\n",
            "valid\n"
          ]
        }
      ]
    },
    {
      "cell_type": "code",
      "source": [
        "#Write a program to accept a number from 1 to 7 and display the name of the day like 1 for Sunday , 2 for Monday and so on.\n",
        "day=int(input(\"Day: \"))\n",
        "if day==1:\n",
        "  print(\"sunday\")\n",
        "elif day==2:\n",
        "  print(\"Monday\")\n",
        "elif day==3:\n",
        "  print(\"thuesday\")\n",
        "elif day==4:\n",
        "  print(\"wednesday\")\n",
        "elif day==5:\n",
        "  print(\"tuesday\")\n",
        "elif day==6:\n",
        "  print(\"friday\")\n",
        "elif day==7:\n",
        "  print(\"saturday\")\n",
        "else:\n",
        "  print(\"None\")\n"
      ],
      "metadata": {
        "id": "SVi2zquIrduI",
        "colab": {
          "base_uri": "https://localhost:8080/"
        },
        "outputId": "4f93fab7-6317-4e11-ed84-d48bc6d8a722"
      },
      "execution_count": null,
      "outputs": [
        {
          "output_type": "stream",
          "name": "stdout",
          "text": [
            "Day: 3\n",
            "thuesday\n"
          ]
        }
      ]
    },
    {
      "cell_type": "code",
      "source": [
        "''' Write a program that asks the user for a two digit number. Print the english word for the number.\n",
        "Enter a two-digit number: 45\n",
        "You entered: forty five.\n",
        "Hint: Break the number into two digits. First if-else to print first digit( twenty/ thirty/...)'''\n",
        "x=int(input())\n",
        "y=x//10\n",
        "z=x%10\n",
        "if 10<x<20:\n",
        "  if x==11:\n",
        "    print(\"Eleven\")\n",
        "  elif x==12:\n",
        "    print(\"twelve\")\n",
        "  elif x==13:\n",
        "    print(\"Thirteen\")\n",
        "  elif x==14:\n",
        "    print(\"Fourteen\")\n",
        "  elif x==15:\n",
        "    print(\"Fifteen\")\n",
        "  elif x==16:\n",
        "    print(\"Sixteen\")\n",
        "  elif x==17:\n",
        "    print(\"seventeen\")\n",
        "  elif x==18:\n",
        "    print(\"Eighteen\")\n",
        "  elif x==19:\n",
        "    print(\"ninteen\")\n",
        "\n",
        "else:\n",
        "  if y==2:\n",
        "    print(\"Twenty\")\n",
        "  elif y==3:\n",
        "    print(\"Thirty\")\n",
        "  elif y==4:\n",
        "    print(\"Fourty\")\n",
        "  elif y==5:\n",
        "    print(\"Fifty\")\n",
        "  elif y==6:\n",
        "    print(\"Sixty\")\n",
        "  elif y==7:\n",
        "    print(\"Seventy\")\n",
        "  elif y==8:\n",
        "    print(\"Eighty\")\n",
        "  elif y==9:\n",
        "    print(\"Ninety\")\n",
        "  if z==1:\n",
        "    print(\"one\")\n",
        "  elif z==2:\n",
        "    print(\"two\")\n",
        "  elif z==3:\n",
        "    print(\"three\")\n",
        "  elif z==4:\n",
        "    print(\"four\")\n",
        "  elif z==5:\n",
        "    print(\"Five\")\n",
        "  elif z==6:\n",
        "    print(\"Six\")\n",
        "  elif z==7:\n",
        "    print(\"seven\")\n",
        "  elif z==8:\n",
        "    print(\"Eight\")\n",
        "  elif z==9:\n",
        "    print(\"Nine\")\n",
        "\n",
        "#  print(\"Only for two numbers\")\n",
        "#x[0][1]=''.join()'''"
      ],
      "metadata": {
        "id": "_yNkgQjHufb_",
        "colab": {
          "base_uri": "https://localhost:8080/"
        },
        "outputId": "a9d062df-a94a-423c-8c66-0b1019ad735b"
      },
      "execution_count": null,
      "outputs": [
        {
          "output_type": "stream",
          "name": "stdout",
          "text": [
            "27\n",
            "Twenty\n",
            "seven\n"
          ]
        }
      ]
    },
    {
      "cell_type": "code",
      "source": [
        "x=int(input())\n",
        "y=x//10\n",
        "z=x%10\n",
        "list1=[None,None,\"Twenty\",'Thirty','Forty','Fifty','Sixty','Seventy','Eighty','Ninety']\n",
        "list2=[None,'One','Two','Three','Four','Five','Six','Seven','Eight','Nine']\n",
        "list3=['Eleven','twelve','Thirteen','Fourteen','Fifteen','Sixteen','seventeen','Eighteen','ninteen']\n",
        "if 10<x<20:\n",
        "  print(list3[x-11])\n",
        "elif 0<x<10:\n",
        "  print(list2[z])\n",
        "elif 20<x<99:\n",
        "  print(list1[y],list2[z])\n",
        "else:\n",
        "  print(\"Out\")"
      ],
      "metadata": {
        "colab": {
          "base_uri": "https://localhost:8080/"
        },
        "id": "i4FKp9k8dK-F",
        "outputId": "e97e2d7f-ac27-4bd4-e3d4-4bad4de816f2"
      },
      "execution_count": null,
      "outputs": [
        {
          "output_type": "stream",
          "name": "stdout",
          "text": [
            "27\n",
            "Twenty Seven\n"
          ]
        }
      ]
    },
    {
      "cell_type": "code",
      "source": [
        "'''Write a program to calculate the electricity bill (accept number of unit from user) according to the following criteria :\n",
        "    Unit                                 Price\n",
        "First 100 units                        no charge\n",
        "Next 100 units                         Rs 5 per unit\n",
        "After 200 units                        Rs 10 per unit\n",
        "(For example if input unit is 350 than total bill amount is (0 for first 100 units+ 5*100 for next hundred units+ 10*150 for the rest 150 units)= Rs2000)'''\n",
        "\n",
        "x=int(input())\n",
        "if x<=100:\n",
        "  print(\"no charge\")\n",
        "elif x<=200:\n",
        "    y=x-100\n",
        "    print(f\"bill:{y*5}\")\n",
        "else:\n",
        "  a=x-200\n",
        "  print(f\"bill:{a*10+100*5}\")\n"
      ],
      "metadata": {
        "id": "-6c41WI8tqNA",
        "colab": {
          "base_uri": "https://localhost:8080/"
        },
        "outputId": "fda5c7ee-65c1-4f52-9f72-9cfa497d5380"
      },
      "execution_count": null,
      "outputs": [
        {
          "output_type": "stream",
          "name": "stdout",
          "text": [
            "150\n",
            "bill:250\n"
          ]
        }
      ]
    },
    {
      "cell_type": "code",
      "source": [
        "#Take a string as an input. If the first letter is uppercase, convert the whole string as uppercase.\n",
        "#If the first letter is lower, convert whole into lower.\n",
        "s='Xbgaf'\n",
        "y=s[0].isupper()\n",
        "if y==True:\n",
        "  x=s[:].upper()\n",
        "  print(x)\n",
        "else:\n",
        "  y=s[:].lower()\n",
        "  print(y)"
      ],
      "metadata": {
        "colab": {
          "base_uri": "https://localhost:8080/"
        },
        "id": "DohtNKa-JSkL",
        "outputId": "1fd43e24-d431-47ca-fb7e-554d82ba808b"
      },
      "execution_count": null,
      "outputs": [
        {
          "output_type": "stream",
          "name": "stdout",
          "text": [
            "XBGAF\n"
          ]
        }
      ]
    },
    {
      "cell_type": "code",
      "source": [
        "#Take a string as an input. If there is ‘a’ in that string (anywhere), print the position of ‘a’.\n",
        "#check   https://www.delftstack.com/howto/python/position-of-character-in-string/\n",
        "x='today I wont talk with u'\n",
        "print(x.index('a'))\n",
        "if x.find('a')>=0:\n",
        "  print(f\"position: {x.find('a')}\")\n",
        "else:\n",
        "  print(\"no\")\n",
        "\n"
      ],
      "metadata": {
        "colab": {
          "base_uri": "https://localhost:8080/"
        },
        "id": "g2Ey7bUbJYPn",
        "outputId": "0d49d8f0-08b6-40f2-c143-bb469dc3063b"
      },
      "execution_count": null,
      "outputs": [
        {
          "output_type": "stream",
          "name": "stdout",
          "text": [
            "3\n",
            "position: 3\n"
          ]
        }
      ]
    },
    {
      "cell_type": "code",
      "source": [
        "'''Take a sentence as an input. If there are less than 3 words, print the last word, else, print the words in reversed order.\n",
        "s= 'I have begun learning Python'\n",
        "Write a code to print 'I evah nugeb gninrael nohtyP'  '''\n",
        "s= 'I will study harder'\n",
        "x=s.split()\n",
        "print(x)\n",
        "if len(x)<3:\n",
        "  a=x[-1]\n",
        "  print(a)\n",
        "else:\n",
        "  b=x[::-1]\n",
        "  print(b)\n",
        "  c=' '.join(b)\n",
        "  print(c)\n",
        "  d=c[::-1]\n",
        "  print(d)\n"
      ],
      "metadata": {
        "id": "n1wc5oE_JfX0",
        "colab": {
          "base_uri": "https://localhost:8080/"
        },
        "outputId": "ea706d2d-754e-4ebf-b450-596dce89ec40"
      },
      "execution_count": null,
      "outputs": [
        {
          "output_type": "stream",
          "name": "stdout",
          "text": [
            "['I', 'will', 'study', 'harder']\n",
            "['harder', 'study', 'will', 'I']\n",
            "harder study will I\n",
            "I lliw yduts redrah\n"
          ]
        }
      ]
    }
  ]
}