{
  "nbformat": 4,
  "nbformat_minor": 0,
  "metadata": {
    "colab": {
      "provenance": [],
      "authorship_tag": "ABX9TyM9y87A0mdgOVME7PNOfENt",
      "include_colab_link": true
    },
    "kernelspec": {
      "name": "python3",
      "display_name": "Python 3"
    },
    "language_info": {
      "name": "python"
    }
  },
  "cells": [
    {
      "cell_type": "markdown",
      "metadata": {
        "id": "view-in-github",
        "colab_type": "text"
      },
      "source": [
        "<a href=\"https://colab.research.google.com/github/SumaiyaRahman/Data-Structure-Assignment/blob/master/List_exercise.ipynb\" target=\"_parent\"><img src=\"https://colab.research.google.com/assets/colab-badge.svg\" alt=\"Open In Colab\"/></a>"
      ]
    },
    {
      "cell_type": "code",
      "source": [
        "#Write a Python program to get the largest number from a list.\n",
        "a=[1,2,3,7,8,4,90]\n",
        "a.sort()\n",
        "a[-1]\n",
        "\n",
        "print(max(a))"
      ],
      "metadata": {
        "id": "Fe_U5XFVClxg",
        "colab": {
          "base_uri": "https://localhost:8080/"
        },
        "outputId": "6c2ae783-17fc-49c0-fc09-efd2ca5e50ae"
      },
      "execution_count": null,
      "outputs": [
        {
          "output_type": "stream",
          "name": "stdout",
          "text": [
            "90\n"
          ]
        }
      ]
    },
    {
      "cell_type": "code",
      "source": [
        "#Python program to interchange first and last elements in a list\n",
        "a=[1,2,4,5,60,34,23049,'pri',2]\n",
        "a1=a[0]\n",
        "a[0]=a[-1]\n",
        "a[-1]=a1\n",
        "a"
      ],
      "metadata": {
        "id": "6UyzD3dgD3Ua",
        "colab": {
          "base_uri": "https://localhost:8080/"
        },
        "outputId": "825ec99b-af86-474f-c2b8-002544c26d83"
      },
      "execution_count": null,
      "outputs": [
        {
          "output_type": "execute_result",
          "data": {
            "text/plain": [
              "[2, 2, 4, 5, 60, 34, 23049, 'pri', 1]"
            ]
          },
          "metadata": {},
          "execution_count": 5
        }
      ]
    },
    {
      "cell_type": "code",
      "source": [
        "a=[1,2,3,4,5,6,78]\n",
        "s1=sum(a)/len(a)\n",
        "s1\n"
      ],
      "metadata": {
        "colab": {
          "base_uri": "https://localhost:8080/"
        },
        "id": "OWCVHpDwL4Tp",
        "outputId": "c6793c47-4fe9-45d9-c0d8-a118a2a06623"
      },
      "execution_count": null,
      "outputs": [
        {
          "output_type": "execute_result",
          "data": {
            "text/plain": [
              "14.142857142857142"
            ]
          },
          "metadata": {},
          "execution_count": 2
        }
      ]
    },
    {
      "cell_type": "code",
      "source": [
        "#Write a program to count the total number of words in a string.\n",
        "\n",
        "s1=\"Grim return to the planet of apes\"\n",
        "#len(s1)\n",
        "x1=s1.split()\n",
        "len(x1)\n"
      ],
      "metadata": {
        "id": "2ooklNAE-o3k",
        "colab": {
          "base_uri": "https://localhost:8080/"
        },
        "outputId": "b1dca339-ebe3-4bc0-87b4-9b5fd6f79445"
      },
      "execution_count": null,
      "outputs": [
        {
          "output_type": "execute_result",
          "data": {
            "text/plain": [
              "7"
            ]
          },
          "metadata": {},
          "execution_count": 4
        }
      ]
    },
    {
      "cell_type": "code",
      "source": [
        "\"\"\"Write a program that replaces two or more consecutive blanks in a string by a single blank. For example, if the input is\n",
        "Grim  return   to  the planet of apes!!\n",
        "the output should be\n",
        "Grim return to the planet of apes!!\"\"\"\n",
        "\n",
        "s1=\"Grim   return to  the planet of    apes\"\n",
        "x2=s1.split(  )\n",
        "x3=' '.join(x2)\n",
        "x3"
      ],
      "metadata": {
        "id": "lGTREYLqj-mW",
        "colab": {
          "base_uri": "https://localhost:8080/",
          "height": 35
        },
        "outputId": "cc2874e6-7258-484f-8126-48af128c21b7"
      },
      "execution_count": null,
      "outputs": [
        {
          "output_type": "execute_result",
          "data": {
            "application/vnd.google.colaboratory.intrinsic+json": {
              "type": "string"
            },
            "text/plain": [
              "'Grim return to the planet of apes'"
            ]
          },
          "metadata": {},
          "execution_count": 15
        }
      ]
    },
    {
      "cell_type": "code",
      "source": [
        "#Reverse words in a given String in Python\n",
        "#Input : str1 = \"geeks quiz practice code\"\n",
        "#Output : str1 = \"code practice quiz geeks\"\n",
        "str1 = \"geeks quiz practice code\"\n",
        "str2=str1.split()\n",
        "str3=' '.join(str2[::-1])\n",
        "str3"
      ],
      "metadata": {
        "id": "EYNlSYaqj-jl",
        "colab": {
          "base_uri": "https://localhost:8080/",
          "height": 35
        },
        "outputId": "7d7e3c96-925f-42c7-fbbb-a6c13e0194e3"
      },
      "execution_count": null,
      "outputs": [
        {
          "output_type": "execute_result",
          "data": {
            "application/vnd.google.colaboratory.intrinsic+json": {
              "type": "string"
            },
            "text/plain": [
              "'code practice quiz geeks'"
            ]
          },
          "metadata": {},
          "execution_count": 29
        }
      ]
    },
    {
      "cell_type": "code",
      "source": [],
      "metadata": {
        "id": "msnyBcx9j-fm"
      },
      "execution_count": null,
      "outputs": []
    }
  ]
}